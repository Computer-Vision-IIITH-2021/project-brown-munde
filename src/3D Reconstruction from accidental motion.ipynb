{
 "cells": [
  {
   "cell_type": "code",
   "execution_count": 1,
   "metadata": {},
   "outputs": [],
   "source": [
    "import cv2\n",
    "import open3d as o3d\n",
    "import numpy as np\n",
    "import matplotlib.pyplot as plt\n",
    "%matplotlib inline\n",
    "\n",
    "from itertools import compress\n",
    "\n",
    "import pydensecrf.densecrf as dcrf\n",
    "from pydensecrf.utils import unary_from_labels, create_pairwise_bilateral, create_pairwise_gaussian\n",
    "\n",
    "import subprocess\n",
    "\n",
    "from glob import glob"
   ]
  },
  {
   "cell_type": "code",
   "execution_count": null,
   "metadata": {},
   "outputs": [],
   "source": [
    "IMAGES_FOLDER_PATH = \"./../datasets/stone6_still\"\n",
    "\n",
    "\n",
    "# Point Clouds \n",
    "INITIAL_POINT_CLOUD = '../output/initial_point_cloud.ply'\n",
    "FINAL_POINT_CLOUD = '../output/final_point_cloud.ply'\n",
    "\n",
    "# Bundle File\n",
    "BUNDLE_FILE = '../output/bundle.out'\n",
    "\n",
    "# Shi-Tomasi parameters\n",
    "feature_params = dict(maxCorners = 5000, \n",
    "                      qualityLevel = 0.03, \n",
    "                      minDistance = 10, \n",
    "                      blockSize = 15\n",
    "                      )\n",
    "\n",
    "# Lucas-Kanade parameters\n",
    "lk_params = dict(   winSize  = (25,25),\n",
    "                    maxLevel = 8,\n",
    "                    criteria = (cv2.TERM_CRITERIA_EPS | cv2.TERM_CRITERIA_COUNT, 20, 0.3))\n",
    "# Ceres-Solver parameters\n",
    "CERES_PARAMS = dict(\n",
    "                    solver = '../ceres-bin/bin/bundle_adjuster',\n",
    "                    maxIterations = 1000,\n",
    "                    input_ply = '../output/initial.ply',\n",
    "                    output_ply = '../output/final.ply',\n",
    "                    inner_iterations = 'true',\n",
    "                    nonmonotonic_steps = 'false'\n",
    "                    )\n",
    "\n",
    "CAMERA_PARAMS = dict(fx=1781,\n",
    "                     fy=1781,\n",
    "                     cx=960,\n",
    "                     cy=540,\n",
    "                     k1=0,\n",
    "                     k2=0,\n",
    "                     s=0,\n",
    "                    )\n"
   ]
  }
 ],
 "metadata": {
  "kernelspec": {
   "display_name": "Python 3",
   "language": "python",
   "name": "python3"
  },
  "language_info": {
   "codemirror_mode": {
    "name": "ipython",
    "version": 3
   },
   "file_extension": ".py",
   "mimetype": "text/x-python",
   "name": "python",
   "nbconvert_exporter": "python",
   "pygments_lexer": "ipython3",
   "version": "3.7.3"
  }
 },
 "nbformat": 4,
 "nbformat_minor": 4
}
